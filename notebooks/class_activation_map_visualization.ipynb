{
 "cells": [
  {
   "cell_type": "code",
   "execution_count": null,
   "metadata": {},
   "outputs": [],
   "source": [
    "from keras.applications.convnext import LayerScale\n",
    "from matplotlib import cm\n",
    "import matplotlib.pyplot as plt\n",
    "import numpy as np\n",
    "import os\n",
    "import pandas as pd\n",
    "from PIL import Image\n",
    "import tensorflow as tf\n",
    "from tensorflow import keras\n",
    "\n",
    "from data_preparation import prepare_data\n",
    "from model_preprocessing import convert_image_to_array, model_predict\n",
    "from grad_cam import make_gradcam_heatmap"
   ]
  },
  {
   "cell_type": "markdown",
   "metadata": {},
   "source": [
    "## Load data"
   ]
  },
  {
   "cell_type": "code",
   "execution_count": null,
   "metadata": {},
   "outputs": [],
   "source": [
    "TARGET_HEIGHT = 640\n",
    "TARGET_WIDTH = 640"
   ]
  },
  {
   "cell_type": "code",
   "execution_count": null,
   "metadata": {},
   "outputs": [],
   "source": [
    "X_val, y_val, valid_labels_df, targets = prepare_data()"
   ]
  },
  {
   "cell_type": "markdown",
   "metadata": {},
   "source": [
    "## Load model"
   ]
  },
  {
   "cell_type": "code",
   "execution_count": null,
   "metadata": {},
   "outputs": [],
   "source": [
    "MODEL_NAME = 'pretrain_model_ConvNeXtBase_w_ClssWgt_01-0.3616.h5'\n",
    "model_path = f'../models/{MODEL_NAME}'\n",
    "model = tf.keras.models.load_model(model_path, custom_objects={'LayerScale': LayerScale})"
   ]
  },
  {
   "cell_type": "code",
   "execution_count": null,
   "metadata": {},
   "outputs": [],
   "source": [
    "model.summary()"
   ]
  },
  {
   "cell_type": "markdown",
   "metadata": {},
   "source": [
    "## Define Grad-CAM Algorithm"
   ]
  },
  {
   "cell_type": "code",
   "execution_count": null,
   "metadata": {},
   "outputs": [],
   "source": [
    "MY_IMG_PATH = X_val[6]"
   ]
  },
  {
   "cell_type": "code",
   "execution_count": null,
   "metadata": {},
   "outputs": [],
   "source": [
    "MY_IMG_PATH"
   ]
  },
  {
   "cell_type": "code",
   "execution_count": null,
   "metadata": {},
   "outputs": [],
   "source": [
    "y_val[6]"
   ]
  },
  {
   "cell_type": "code",
   "execution_count": null,
   "metadata": {},
   "outputs": [],
   "source": [
    "last_conv_layer_name = 'block14_sepconv2'\n",
    "classifier_layer_names = ['local_avg_pool', 'flatten', 'prediction']"
   ]
  },
  {
   "cell_type": "markdown",
   "metadata": {},
   "source": [
    "Run model on a single image"
   ]
  },
  {
   "cell_type": "code",
   "execution_count": null,
   "metadata": {},
   "outputs": [],
   "source": [
    "test_num = 9\n",
    "\n",
    "X_val_example = X_val[test_num]\n",
    "y_val_example = y_val[test_num]\n",
    "\n",
    "y_hat = model_predict(path=X_val_example, model=model, target_height=TARGET_HEIGHT, target_width=TARGET_WIDTH)\n",
    "\n",
    "print(f'Ground truth label: {y_val_example} \\n Predicted label: {np.argmax(y_hat)} \\t Probability: {np.max(y_hat)}')"
   ]
  },
  {
   "cell_type": "code",
   "execution_count": null,
   "metadata": {},
   "outputs": [],
   "source": [
    "y_hat"
   ]
  },
  {
   "cell_type": "code",
   "execution_count": null,
   "metadata": {},
   "outputs": [],
   "source": [
    "def get_img_array(img_path):\n",
    "    global TARGET_HEIGHT\n",
    "    global TARGET_WIDTH\n",
    "    img = convert_image_to_array(path=img_path, target_height=TARGET_HEIGHT, target_width=TARGET_WIDTH)\n",
    "    # We add a dimension to transform our array into a \"batch\"\n",
    "    img = np.expand_dims(img, axis=0)\n",
    "    return img"
   ]
  },
  {
   "cell_type": "code",
   "execution_count": null,
   "metadata": {},
   "outputs": [],
   "source": [
    "# Prepare image\n",
    "img_array = get_img_array(img_path=MY_IMG_PATH)\n",
    "\n",
    "# Print what the top predicted class is\n",
    "preds = model.predict(img_array)\n",
    "pred_class = np.argmax(preds)\n",
    "pred_prob = np.max(preds)\n",
    "#print(f\"Predicted class: {pred_label} \\n Probability: {pred_prob} \\n Actual Class: {lesion_type_dict[label_abbreviation]}\")\n",
    "print(f\"Predicted class: {pred_class} \\n Probability: {pred_prob}\")\n",
    "\n",
    "# Generate class activation heatmap\n",
    "heatmap = make_gradcam_heatmap(\n",
    "    img_array, model, last_conv_layer_name, classifier_layer_names\n",
    ")\n",
    "\n",
    "# Display heatmap\n",
    "plt.matshow(heatmap)\n",
    "plt.show()"
   ]
  },
  {
   "cell_type": "code",
   "execution_count": null,
   "metadata": {},
   "outputs": [],
   "source": [
    "# We load the original image\n",
    "img = convert_image_to_array(path=MY_IMG_PATH, target_height=TARGET_HEIGHT, target_width=TARGET_WIDTH)\n",
    "img = np.uint8(255. * img)\n",
    "\n",
    "# We rescale heatmap to a range 0-255\n",
    "heatmap = np.uint8(255. * heatmap)\n",
    "\n",
    "# We use jet colormap to colorize heatmap\n",
    "jet = cm.get_cmap(\"jet\")\n",
    "\n",
    "# We use RGB values of the colormap\n",
    "jet_colors = jet(np.arange(256))[:, :3]\n",
    "jet_heatmap = jet_colors[heatmap]\n",
    "\n",
    "# We create an image with RGB colorized heatmap\n",
    "jet_heatmap = keras.preprocessing.image.array_to_img(jet_heatmap)\n",
    "jet_heatmap = jet_heatmap.resize((img.shape[1], img.shape[0]))\n",
    "jet_heatmap = keras.preprocessing.image.img_to_array(jet_heatmap)\n",
    "\n",
    "# Superimpose the heatmap on original image\n",
    "superimposed_img = jet_heatmap * 0.2 + img\n",
    "superimposed_img = keras.preprocessing.image.array_to_img(superimposed_img)\n",
    "\n",
    "# Save the superimposed image\n",
    "save_path = \"heatmap.jpg\"\n",
    "superimposed_img.save(save_path)\n",
    "\n",
    "# Display Grad CAM along with original image\n",
    "fig, axs = plt.subplots(1, 2, figsize = (10, 5))\n",
    "\n",
    "axs[0].imshow(np.asarray(Image.open(save_path)))\n",
    "axs[0].axis('off')\n",
    "axs[0].set_aspect('auto')\n",
    "axs[1].imshow(np.asarray(img))\n",
    "axs[1].axis('off')\n",
    "axs[1].set_aspect('auto')\n",
    "\n",
    "plt.show() "
   ]
  },
  {
   "cell_type": "code",
   "execution_count": null,
   "metadata": {},
   "outputs": [],
   "source": []
  }
 ],
 "metadata": {
  "kernelspec": {
   "display_name": "Python 3",
   "language": "python",
   "name": "python3"
  },
  "language_info": {
   "codemirror_mode": {
    "name": "ipython",
    "version": 3
   },
   "file_extension": ".py",
   "mimetype": "text/x-python",
   "name": "python",
   "nbconvert_exporter": "python",
   "pygments_lexer": "ipython3",
   "version": "3.8.10"
  }
 },
 "nbformat": 4,
 "nbformat_minor": 2
}
