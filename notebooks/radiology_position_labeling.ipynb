{
 "cells": [
  {
   "cell_type": "markdown",
   "id": "a1a4b67d",
   "metadata": {},
   "source": [
    "# Image Class Labeling Tool\n",
    "This notbook serves to assign labels to .jpg image files in a directory.\n",
    "\n",
    "To use this notebook, please open it in jupyter and run the cells below.\n",
    "Replace the `path=\"./data\"` argument if you want to label your own image directory.\n",
    "You can start labeling after running the last code cell.\n",
    "\n",
    "Note:\n",
    "    In case there are issues displaying the labeling tool in your notebook environment, it is possible that JavaScript is disabled in notebooks.\n",
    "    Try to run the following command in a terminal to enable it, then refresh you browser:\n",
    "    `jupyter nbextension enable --py widgetsnbextension --sys-prefix`"
   ]
  },
  {
   "cell_type": "code",
   "execution_count": null,
   "id": "a63f6b9c",
   "metadata": {},
   "outputs": [],
   "source": [
    "from labelingtool import LabelingTool\n",
    "import os\n",
    "import pandas as pd"
   ]
  },
  {
   "cell_type": "code",
   "execution_count": null,
   "id": "2b7968ea-ade5-4780-aaac-a2bd7fa42ee6",
   "metadata": {},
   "outputs": [],
   "source": [
    "ROOT_DIR = '/data/'"
   ]
  },
  {
   "cell_type": "code",
   "execution_count": null,
   "id": "7681cf20-0e50-46f5-861f-da74d82a7598",
   "metadata": {},
   "outputs": [],
   "source": [
    "SUFFIX_DIR = "
   ]
  },
  {
   "cell_type": "markdown",
   "id": "f976fd9e-4c2f-4544-89a4-f1b0a7c7cbb3",
   "metadata": {},
   "source": [
    "`Standard` means that the left side of the image is the right side of the patient and the right side of the image is the left side of the patient"
   ]
  },
  {
   "cell_type": "code",
   "execution_count": null,
   "id": "83de6faa-8b1f-41b0-8ff9-88a9affeb96d",
   "metadata": {},
   "outputs": [],
   "source": [
    "directory = "
   ]
  },
  {
   "cell_type": "code",
   "execution_count": null,
   "id": "5449115a",
   "metadata": {},
   "outputs": [],
   "source": [
    "tool = LabelingTool(path=f\"{ROOT_DIR}unlabeled/{SUFFIX_DIR}{directory}\", classes=[\"left_lateral\", \"right_lateral\", \"standard_ventrodorsal\", \"flipped_ventrodorsal\", \"standard_dorsalventro\", \"flipped_dorsalventro\",])\n"
   ]
  },
  {
   "cell_type": "code",
   "execution_count": null,
   "id": "bb96de91",
   "metadata": {},
   "outputs": [],
   "source": [
    "tool.start()"
   ]
  },
  {
   "cell_type": "code",
   "execution_count": null,
   "id": "b564aa7a-eb6c-43c2-af37-29ae712a9fa9",
   "metadata": {},
   "outputs": [],
   "source": [
    "len(tool.labels)"
   ]
  },
  {
   "cell_type": "markdown",
   "id": "5a268de7-479d-4450-b4da-f0350b6d8bde",
   "metadata": {},
   "source": [
    "## Save labels to dataframe"
   ]
  },
  {
   "cell_type": "code",
   "execution_count": null,
   "id": "a1839cb6-d81b-4c44-8f06-480c50882a13",
   "metadata": {},
   "outputs": [],
   "source": [
    "df_labels = pd.DataFrame(list(tool.labels.keys()), columns=['filename'])\n",
    "df_labels['orientation'] = list(tool.labels.values())"
   ]
  },
  {
   "cell_type": "code",
   "execution_count": null,
   "id": "9b8f4752-0939-4f03-900e-711830b2bf3b",
   "metadata": {},
   "outputs": [],
   "source": [
    "df_labels['path'] = f'{ROOT_DIR}{SUFFIX_DIR}{directory}/' + df_labels['filename']"
   ]
  },
  {
   "cell_type": "code",
   "execution_count": null,
   "id": "c751faac-c79f-4461-845a-adf827df286c",
   "metadata": {},
   "outputs": [],
   "source": [
    "df_labels"
   ]
  },
  {
   "cell_type": "code",
   "execution_count": null,
   "id": "044629bb-5861-43f8-9812-477d77d9d4fb",
   "metadata": {},
   "outputs": [],
   "source": [
    "df_existing_labels = pd.read_csv('data.csv')"
   ]
  },
  {
   "cell_type": "code",
   "execution_count": null,
   "id": "5a8a1df6-e10b-4cae-9f4b-a59840916114",
   "metadata": {},
   "outputs": [],
   "source": [
    "data = pd.concat([df_labels, df_existing_labels], ignore_index=True)\n",
    "data.reset_index(drop=True, inplace=True)"
   ]
  },
  {
   "cell_type": "code",
   "execution_count": null,
   "id": "43c57db1-9d3a-45a8-9634-aca67fe634a0",
   "metadata": {},
   "outputs": [],
   "source": [
    "data.shape"
   ]
  },
  {
   "cell_type": "code",
   "execution_count": null,
   "id": "65104178-f110-40ec-8f8f-9e6aeadb1159",
   "metadata": {},
   "outputs": [],
   "source": [
    "data.to_csv('data.csv', index=False)"
   ]
  },
  {
   "cell_type": "markdown",
   "id": "b719d031-dd3a-42e2-a9bc-083c84e69d72",
   "metadata": {},
   "source": [
    "## Remove images that have been labeled"
   ]
  },
  {
   "cell_type": "code",
   "execution_count": null,
   "id": "4de89173-e4fa-4231-ac14-a94fec124932",
   "metadata": {},
   "outputs": [],
   "source": [
    "for filename in df_labels['filename']:\n",
    "    os.remove(f'{ROOT_DIR}unlabeled/{SUFFIX_DIR}{directory}/{filename}')"
   ]
  },
  {
   "cell_type": "code",
   "execution_count": null,
   "id": "6f961a01-efad-46c2-93b4-b0c40140ff81",
   "metadata": {},
   "outputs": [],
   "source": []
  }
 ],
 "metadata": {
  "kernelspec": {
   "display_name": "Python 3 (ipykernel)",
   "language": "python",
   "name": "python3"
  },
  "language_info": {
   "codemirror_mode": {
    "name": "ipython",
    "version": 3
   },
   "file_extension": ".py",
   "mimetype": "text/x-python",
   "name": "python",
   "nbconvert_exporter": "python",
   "pygments_lexer": "ipython3",
   "version": "3.9.13"
  }
 },
 "nbformat": 4,
 "nbformat_minor": 5
}
